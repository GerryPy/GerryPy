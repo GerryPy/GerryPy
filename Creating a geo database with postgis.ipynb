{
 "cells": [
  {
   "cell_type": "markdown",
   "metadata": {},
   "source": [
    "## Getting the GIS data\n",
    "\n",
    "\n",
    "http://www.census.gov/geo/maps-data/data/tiger-data.html"
   ]
  },
  {
   "cell_type": "code",
   "execution_count": null,
   "metadata": {
    "collapsed": true
   },
   "outputs": [],
   "source": []
  },
  {
   "cell_type": "markdown",
   "metadata": {},
   "source": [
    "# Setting up The database"
   ]
  },
  {
   "cell_type": "markdown",
   "metadata": {},
   "source": [
    "Setting up the database for use with PostGIS\n",
    "\n",
    "### Install PostGIS\n",
    "```\n",
    "sudo apt-get update\n",
    "sudo apt-get install -y postgis postgresql-9.5-postgis-2.2\n",
    "``` \n",
    "If you're on a mac,\n",
    "\n",
    "ensure those are the latest versions\n",
    "\n",
    "Install the postgis extensions in PostGres:\n",
    "```\n",
    "psql\n",
    "```\n",
    "\n",
    "```\n",
    "CREATE EXTENSION postgis; CREATE EXTENSION postgis_topology;\n",
    "```\n",
    "\n",
    "Other extensions for additional geographic functionality available.\n",
    "\n",
    "Databases should now support geographic datatypes and functions.\n",
    "Sources: \n",
    "http://www.saintsjd.com/2014/08/13/howto-install-postgis-on-ubuntu-trusty.html\n",
    "http://postgis.net/install/\n",
    "http://www.bostongis.com/PrinterFriendly.aspx?content_name=postgis_tut01\n",
    "\n",
    "\n",
    "### Create and Load Geodatabase\n",
    "\n",
    "http://www.bostongis.com/PrinterFriendly.aspx?content_name=postgis_tut01\n",
    "\n",
    "Download your shapefiles.\n",
    "You may need to prep them before loading some.\n",
    "\n",
    "Figure out the SRID (spatial reference id) of the shapefiles\n",
    "    for GerryPy data it is going probably be 4269\n",
    "    This website is useful to find your srid: http://spatialreference.org/ref/epsg/4269/\n",
    "\n",
    "\n",
    "Convert the Shapefiles to .sql:\n",
    "        Some tutorials talk about the commands being in a hard to get to directory.  I had access to them right out of the box, and will proceed as though you have them too.\n",
    "        Run the following command from the directory that holds the shapefule (made up of .shp, .shx, .prj, .dbf, .xml, all with the same name).\n",
    "        \n",
    "```\n",
    "shp2pgsql -s <srid> <shapefile_name> [optional table name] > <new_name for .sql file>.sql\n",
    "```\n",
    "\n",
    "You should now have a .sql file in that same directory.  It contains the table and the geographic shapes.  This is what we'll add to the database.  \n",
    "\n",
    "\n",
    "Load files to database:\n",
    "```\n",
    "psql -d <your_username> -h localhost -U <your_username> -f <your_new_.sql_file>\n",
    "```\n",
    "\n",
    "I sometimes have trouble with this last step.  If you're getting errors about the table not existing.  Try adding it to your username database.  then use sql to copy it to a new database.\n",
    "\n",
    "Check your DB!  You should be ready to go.\n",
    "\n",
    "\n"
   ]
  },
  {
   "cell_type": "code",
   "execution_count": null,
   "metadata": {
    "collapsed": true
   },
   "outputs": [],
   "source": []
  },
  {
   "cell_type": "markdown",
   "metadata": {},
   "source": [
    "## Finding the neighboring shapes with PostGIS\n",
    "\n",
    "http://stackoverflow.com/questions/26866416/finding-neighbouring-polygons-postgis-query\n",
    "\n",
    "The edges table is built by finding every set of bordering tracts.  The pos\n",
    "```\n",
    "Update gemstat_simple5 gem set spread=1, time=2\n",
    "  FROM (\n",
    "     SELECT (b.\"GEM_NR\")\n",
    "       FROM gemstat_simple5 as a,\n",
    "            gemstat_simple5 as b\n",
    "       WHERE ST_Touches(a.the_geom, b.the_geom)\n",
    "       AND a.\"GEM_NR\" != b.\"GEM_NR\"\n",
    "       AND a.spread = 1\n",
    "     ) as subquery\n",
    " WHERE gem.\"GEM_NR\" = subquery.\"GEM_NR\"\n",
    "```"
   ]
  },
  {
   "cell_type": "markdown",
   "metadata": {},
   "source": [
    "## District View  SQL\n",
    "\n",
    "In your psql database run the following SQL to build a view that generates summary stats and shapes fomr your tract table \"colorado_tracts\".\n",
    "\n",
    "```\n",
    "CREATE VIEW vwDistrict\n",
    "\n",
    "AS\n",
    "\n",
    "SELECT t.districtid,\n",
    "       sum(t.tract_pop) as population,\n",
    "       sum(t.shape_area) as area,\n",
    "       cast(ST_MULTI(ST_UNION(t.geom)) as geometry(MultiPolygon,4269)) as geom\n",
    "FROM colorado_tracts AS t\n",
    "GROUP BY t.districtid;\n",
    "```\n",
    "\n",
    "\n"
   ]
  },
  {
   "cell_type": "markdown",
   "metadata": {
    "collapsed": true
   },
   "source": [
    "## Getting PyQGIS working on your computer\n",
    "\n",
    "We have to use python2 to work with QGIS (boo) \n",
    "We dont yet know how to do tht accross the board, but we'll figure that out.\n",
    "\n",
    "After installing QGIS, open up its desktop software.  From the top toolbar: click Plugins > Python Console\n",
    "\n",
    "In the console, type: \n",
    "```\n",
    "import qgis\n",
    "print(qgis.__file__)\n",
    "```\n",
    "That should give you the location of the qgis scripts.\n",
    "it should look something like :\n",
    "\"/usr/lib/python2.7/dist-packages/qgis/__init__.pyc\"\n",
    "\n",
    "go to your venv activate script and set a new environment variable for that path up until the qgis module.\n",
    "```\n",
    "export PYTHONPATH=/usr/lib/python2.7/dist-packages/\n",
    "```\n",
    "\n",
    "Now, in your module, you should be able to\n",
    "```\n",
    "import qgis\n",
    "```\n",
    "\n",
    "\n",
    "\n",
    "\n"
   ]
  },
  {
   "cell_type": "markdown",
   "metadata": {},
   "source": [
    "## Setting up PyQGIS\n",
    "\n",
    "PyQGIS needs to be able to access its modules, which are buried somewhere on your computer.  You probably wont be able to access them right away.  \n",
    "\n",
    "If you go to http://docs.qgis.org/testing/en/docs/pyqgis_developer_cookbook/intro.html#using-pyqgis-in-custom-applications\n",
    "\n",
    "There's a solution, but it didnt work for me.  My files are in a different directory.\n",
    "\n",
    "Open up your QGIS Desktop app.  Click on Plugins > Python Console.  In console, type:\n",
    "```\n",
    "import qgis\n",
    "print(qgis.__file__)\n",
    "```\n",
    "The retuen value should be something like.  /usr/lib/python2.7/dist-packages/qgis/__init__.pyc\n",
    "\n",
    "Copy the path up to 'qgis' and go to your bin/activate file in your venv.\n",
    "\n",
    "Set a new environment variable for your PYTHONPATH that leads to that location, like so:\n",
    "export PYTHONPATH=/usr/lib/python2.7/dist-packages/\n",
    "\n",
    "Restart your venv and pyqgis modules should work.  should..."
   ]
  },
  {
   "cell_type": "markdown",
   "metadata": {},
   "source": [
    "##Working with Vectors\n",
    "\n",
    "how to select by an attribute expression\n",
    "http://gis.stackexchange.com/questions/131158/how-to-select-features-using-an-expression-with-pyqgis\n"
   ]
  }
 ],
 "metadata": {
  "kernelspec": {
   "display_name": "Python 3",
   "language": "python",
   "name": "python3"
  },
  "language_info": {
   "codemirror_mode": {
    "name": "ipython",
    "version": 3
   },
   "file_extension": ".py",
   "mimetype": "text/x-python",
   "name": "python",
   "nbconvert_exporter": "python",
   "pygments_lexer": "ipython3",
   "version": "3.5.2"
  }
 },
 "nbformat": 4,
 "nbformat_minor": 2
}
