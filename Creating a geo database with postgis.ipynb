{
 "cells": [
  {
   "cell_type": "markdown",
   "metadata": {},
   "source": [
    "# Setting up The database"
   ]
  },
  {
   "cell_type": "markdown",
   "metadata": {},
   "source": [
    "Setting up the database for use with PostGIS\n",
    "\n",
    "###Install PostGIS\n",
    "```\n",
    "sudo apt-get update\n",
    "postgis postgresql-9.5-postgis-2.2\n",
    "``` \n",
    "ensure those are the latest versions\n",
    "\n",
    "Install the postgis extensions in PostGres:\n",
    "```psql```\n",
    "\n",
    "```CREATE EXTENSION postgis; CREATE EXTENSION postgis_topology;\n",
    "```\n",
    "Other extensions for additional geographic functionality available.\n",
    "\n",
    "Databases should now support geographic datatypes and functions.\n",
    "Sources: \n",
    "http://www.saintsjd.com/2014/08/13/howto-install-postgis-on-ubuntu-trusty.html\n",
    "http://postgis.net/install/\n",
    "http://www.bostongis.com/PrinterFriendly.aspx?content_name=postgis_tut01\n",
    "\n",
    "\n",
    "###Create and Load Geodatabase\n",
    "\n",
    "http://www.bostongis.com/PrinterFriendly.aspx?content_name=postgis_tut01\n",
    "\n",
    "Download your shapefiles.\n",
    "You may need to prep them before loading some.\n",
    "\n",
    "Figure out the SRID (spatial reference id) of the shapefiles\n",
    "    for GerryPy data it is going probably be 4269\n",
    "    This website is useful to find your srid: http://spatialreference.org/ref/epsg/4269/\n",
    "\n",
    "\n",
    "Convert the Shapefiles to .sql:\n",
    "        Some tutorials talk about the commands being in a hard to get to directory.  I had access to them right out of the box, and will proceed as though you have them too.\n",
    "        Run the following command from the directory that holds the shapefule (made up of .shp, .shx, .prj, .dbf, .xml, all with the same name).\n",
    "        \n",
    "```\n",
    "shp2pgsql -s <srid> <shapefile_name> [optional table name] > <new_name for .sql file>.sql\n",
    "```\n",
    "\n",
    "You should now have a .sql file in that same directory.  It contains the table and the geographic shapes.  This is what we'll add to the database.  \n",
    "\n",
    "\n",
    "Load files to database:\n",
    "```\n",
    "psql -d <dbname> -h localhost -U postgres -f <your_new_.sql_file>\n",
    "```\n",
    "\n",
    "Check your DB!  You should be ready to go.\n",
    "\n",
    "\n"
   ]
  },
  {
   "cell_type": "markdown",
   "metadata": {},
   "source": [
    "## Finding the neighboring shapes\n",
    "\n",
    "http://stackoverflow.com/questions/26866416/finding-neighbouring-polygons-postgis-query\n",
    "\n",
    "The Following code will return the id's of all neighboring shapes. \n",
    "```\n",
    "SELECT (b.Name_or_ID)\n",
    "FROM TableName as a\n",
    "JOIN Table_Name as b\n",
    "ON ST_Touches((a.geom),b.geom)\n",
    "where a.gid = Whichever_id_youre_interested_in;\n",
    "```\n",
    "\n",
    "\n",
    "This will update the neighbors for a shape in the neighbors table.[not finished]\n",
    "```\n",
    "Update gemstat_simple5 gem set spread=1, time=2\n",
    "FROM (\n",
    "   SELECT (b.\"GEM_NR\")\n",
    "   FROM gemstat_simple5 as a,\n",
    "   gemstat_simple5 as b\n",
    "   WHERE ST_Touches(a.the_geom, b.the_geom) \n",
    "   AND a.\"GEM_NR\" != b.\"GEM_NR\"\n",
    "   AND a.spread = 1\n",
    ") as subquery\n",
    "WHERE gem.\"GEM_NR\" = subquery.\"GEM_NR\"\n",
    "```"
   ]
  },
  {
   "cell_type": "code",
   "execution_count": null,
   "metadata": {
    "collapsed": true
   },
   "outputs": [],
   "source": []
  }
 ],
 "metadata": {
  "kernelspec": {
   "display_name": "Python 3",
   "language": "python",
   "name": "python3"
  },
  "language_info": {
   "codemirror_mode": {
    "name": "ipython",
    "version": 3
   },
   "file_extension": ".py",
   "mimetype": "text/x-python",
   "name": "python",
   "nbconvert_exporter": "python",
   "pygments_lexer": "ipython3",
   "version": "3.5.2"
  }
 },
 "nbformat": 4,
 "nbformat_minor": 2
}
